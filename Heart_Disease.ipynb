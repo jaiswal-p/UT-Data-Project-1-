{
 "cells": [
  {
   "cell_type": "code",
   "execution_count": 1,
   "metadata": {},
   "outputs": [],
   "source": [
    "import csv\n",
    "import numpy as np\n",
    "import pandas as pd\n",
    "import matplotlib.pyplot as plt"
   ]
  },
  {
   "cell_type": "code",
   "execution_count": 2,
   "metadata": {},
   "outputs": [
    {
     "data": {
      "text/html": [
       "<div>\n",
       "<style scoped>\n",
       "    .dataframe tbody tr th:only-of-type {\n",
       "        vertical-align: middle;\n",
       "    }\n",
       "\n",
       "    .dataframe tbody tr th {\n",
       "        vertical-align: top;\n",
       "    }\n",
       "\n",
       "    .dataframe thead th {\n",
       "        text-align: right;\n",
       "    }\n",
       "</style>\n",
       "<table border=\"1\" class=\"dataframe\">\n",
       "  <thead>\n",
       "    <tr style=\"text-align: right;\">\n",
       "      <th></th>\n",
       "      <th>Year</th>\n",
       "      <th>State</th>\n",
       "      <th>Poverty</th>\n",
       "      <th>LocationDesc</th>\n",
       "      <th>GeographicLevel</th>\n",
       "      <th>DataSource</th>\n",
       "      <th>Class</th>\n",
       "      <th>Topic</th>\n",
       "      <th>Data_Value</th>\n",
       "      <th>Data_Value_Unit</th>\n",
       "      <th>Data_Value_Type</th>\n",
       "      <th>Gender</th>\n",
       "      <th>Race/Ethnicity</th>\n",
       "      <th>LocationID</th>\n",
       "      <th>Location 1</th>\n",
       "    </tr>\n",
       "  </thead>\n",
       "  <tbody>\n",
       "    <tr>\n",
       "      <th>0</th>\n",
       "      <td>2014</td>\n",
       "      <td>AK</td>\n",
       "      <td>10.5</td>\n",
       "      <td>Aleutians East</td>\n",
       "      <td>County</td>\n",
       "      <td>NVSS</td>\n",
       "      <td>Cardiovascular Diseases</td>\n",
       "      <td>Heart Disease Mortality</td>\n",
       "      <td>105.3</td>\n",
       "      <td>per 100,000 population</td>\n",
       "      <td>Age-adjusted, Spatially Smoothed, 3-year Avera...</td>\n",
       "      <td>Overall</td>\n",
       "      <td>Overall</td>\n",
       "      <td>2013</td>\n",
       "      <td>(55.440626, -161.962562)</td>\n",
       "    </tr>\n",
       "    <tr>\n",
       "      <th>1</th>\n",
       "      <td>2014</td>\n",
       "      <td>AK</td>\n",
       "      <td>10.5</td>\n",
       "      <td>Aleutians West</td>\n",
       "      <td>County</td>\n",
       "      <td>NVSS</td>\n",
       "      <td>Cardiovascular Diseases</td>\n",
       "      <td>Heart Disease Mortality</td>\n",
       "      <td>211.9</td>\n",
       "      <td>per 100,000 population</td>\n",
       "      <td>Age-adjusted, Spatially Smoothed, 3-year Avera...</td>\n",
       "      <td>Overall</td>\n",
       "      <td>Overall</td>\n",
       "      <td>2016</td>\n",
       "      <td>(52.995403, -170.251538)</td>\n",
       "    </tr>\n",
       "  </tbody>\n",
       "</table>\n",
       "</div>"
      ],
      "text/plain": [
       "   Year State  Poverty    LocationDesc GeographicLevel DataSource  \\\n",
       "0  2014    AK     10.5  Aleutians East          County       NVSS   \n",
       "1  2014    AK     10.5  Aleutians West          County       NVSS   \n",
       "\n",
       "                     Class                    Topic  Data_Value  \\\n",
       "0  Cardiovascular Diseases  Heart Disease Mortality       105.3   \n",
       "1  Cardiovascular Diseases  Heart Disease Mortality       211.9   \n",
       "\n",
       "          Data_Value_Unit                                    Data_Value_Type  \\\n",
       "0  per 100,000 population  Age-adjusted, Spatially Smoothed, 3-year Avera...   \n",
       "1  per 100,000 population  Age-adjusted, Spatially Smoothed, 3-year Avera...   \n",
       "\n",
       "    Gender Race/Ethnicity  LocationID                Location 1  \n",
       "0  Overall        Overall        2013  (55.440626, -161.962562)  \n",
       "1  Overall        Overall        2016  (52.995403, -170.251538)  "
      ]
     },
     "execution_count": 2,
     "metadata": {},
     "output_type": "execute_result"
    }
   ],
   "source": [
    "heartDiseaseDF = pd.read_csv(\"Resources/Heart_Disease.csv\")\n",
    "heartDiseaseDF = heartDiseaseDF.rename(columns={'LocationAbbr':'State'})\n",
    "heartDiseaseDF.head(2)"
   ]
  },
  {
   "cell_type": "code",
   "execution_count": 3,
   "metadata": {},
   "outputs": [
    {
     "data": {
      "text/plain": [
       "Year               57456\n",
       "State              57456\n",
       "Poverty            57456\n",
       "LocationDesc       57456\n",
       "GeographicLevel    57456\n",
       "DataSource         57456\n",
       "Class              57456\n",
       "Topic              57456\n",
       "Data_Value         57456\n",
       "Data_Value_Unit    57456\n",
       "Data_Value_Type    57456\n",
       "Gender             57456\n",
       "Race/Ethnicity     57456\n",
       "LocationID         57456\n",
       "Location 1         57456\n",
       "dtype: int64"
      ]
     },
     "execution_count": 3,
     "metadata": {},
     "output_type": "execute_result"
    }
   ],
   "source": [
    "heartDiseaseDF = heartDiseaseDF.dropna()\n",
    "heartDiseaseDF.count()"
   ]
  },
  {
   "cell_type": "code",
   "execution_count": 4,
   "metadata": {},
   "outputs": [
    {
     "name": "stdout",
     "output_type": "stream",
     "text": [
      "US States:\n",
      " ['AK', 'AL', 'AR', 'AZ', 'CA', 'CO', 'CT', 'DC', 'DE', 'FL', 'GA', 'HI', 'IA', 'ID', 'IL', 'IN', 'KS', 'KY', 'LA', 'MA', 'MD', 'ME', 'MI', 'MN', 'MO', 'MS', 'MT', 'NC', 'ND', 'NE', 'NH', 'NJ', 'NM', 'NV', 'NY', 'OH', 'OK', 'OR', 'PA', 'RI', 'SC', 'SD', 'TN', 'TX', 'UT', 'VA', 'VT', 'WA', 'WI', 'WV', 'WY']\n"
     ]
    }
   ],
   "source": [
    "#Analysis: Heart Disease against State\n",
    "#To perform this analysis, heartDiseaseDF can be reduced to contain just 2 columns - Data_Value and State\n",
    "stateDF = heartDiseaseDF[['Data_Value', 'State']]\n",
    "#Retreive all the States\n",
    "#Sorting is very important as the unique() method creates an unsorted list.\n",
    "states = sorted(stateDF['State'].unique())\n",
    "print(f\"US States:\\n {states}\")\n"
   ]
  },
  {
   "cell_type": "code",
   "execution_count": 5,
   "metadata": {},
   "outputs": [
    {
     "name": "stdout",
     "output_type": "stream",
     "text": [
      "Average of every State / 100,000 population suffering from HD grouped by Gender: State\n",
      "AK    126.979563\n",
      "AL    252.744036\n",
      "AR    232.464254\n",
      "AZ    249.267708\n",
      "CA    282.351130\n",
      "Name: Data_Value, dtype: float64\n"
     ]
    },
    {
     "data": {
      "image/png": "[encoded data removed]",
      "text/plain": [
       "<Figure size 1296x360 with 1 Axes>"
      ]
     },
     "metadata": {
      "needs_background": "light"
     },
     "output_type": "display_data"
    },
    {
     "name": "stdout",
     "output_type": "stream",
     "text": [
      "Total of every State / 100,000 population suffering from HD grouped by Gender: State\n",
      "AK     63997.7\n",
      "AL    309358.7\n",
      "AR    318011.1\n",
      "AZ     71789.1\n",
      "CA    299856.9\n",
      "Name: Data_Value, dtype: float64\n"
     ]
    },
    {
     "data": {
      "image/png": "[encoded data removed]",
      "text/plain": [
       "<Figure size 1296x360 with 1 Axes>"
      ]
     },
     "metadata": {
      "needs_background": "light"
     },
     "output_type": "display_data"
    }
   ],
   "source": [
    "def stateStatHD(stat='mean'):\n",
    "    '''\n",
    "        We want to find out total and mean of every state against 100,000 population suffering from HD.\n",
    "        Perform a GROUP BY to group all the States.\n",
    "    '''\n",
    "    stateGrouped = stateDF.groupby(by='State')\n",
    "    #stateGrouped = heartDiseaseDF.groupby(by='State')\n",
    "    if stat == 'mean':\n",
    "        totalHDByState = stateGrouped['Data_Value'].mean()\n",
    "        print(f\"Average of every State / 100,000 population suffering from HD grouped by Gender: {totalHDByState.head()}\")\n",
    "    else:\n",
    "        totalHDByState = stateGrouped['Data_Value'].sum()\n",
    "        print(f\"Total of every State / 100,000 population suffering from HD grouped by Gender: {totalHDByState.head()}\")\n",
    "    \n",
    "    #Construct a Bar chart to indicate the HD% suffered by total of every state\n",
    "    x_axis = np.arange(len(states)) * 2.5\n",
    "    y_axis = list(round(totalHDByState, 2))\n",
    "    tick_locations = [value+0.4 for value in x_axis]\n",
    "\n",
    "    plt.figure(figsize=(18,5))\n",
    "    plt.bar(x_axis, y_axis, color='r', alpha=0.5, align='edge')\n",
    "    plt.xticks(tick_locations, states, rotation=\"vertical\")\n",
    "    plt.xlabel('States')\n",
    "    if stat=='mean':\n",
    "        plt.ylabel('Average Heart Disease Population Rate')\n",
    "        plt.title(\"Average Heart Disease by population\")\n",
    "        plt.savefig('Images/AverageHDPopulation.png')\n",
    "    else:\n",
    "        plt.ylabel('Total Heart Disease Population Rate')\n",
    "        plt.title(\"Total Heart Disease by population\")\n",
    "        plt.savefig('Images/TotalHDPopulation.png')\n",
    "    plt.show()\n",
    "    \n",
    "stateStatHD('mean')\n",
    "stateStatHD('sum')"
   ]
  },
  {
   "cell_type": "code",
   "execution_count": 6,
   "metadata": {},
   "outputs": [
    {
     "name": "stdout",
     "output_type": "stream",
     "text": [
      "US Geographic Levels:\n",
      " ['County', 'State']\n"
     ]
    }
   ],
   "source": [
    "#Analysis: Hear Disease against County\n",
    "#To perform this analysis, heartDiseaseDF can be reduced to contain just 2 columns - Data_Value and County\n",
    "geographyDF = heartDiseaseDF[['Data_Value', 'GeographicLevel']]\n",
    "\n",
    "#Retreive all the States\n",
    "geoLevels = sorted(geographyDF['GeographicLevel'].unique())\n",
    "print(f\"US Geographic Levels:\\n {geoLevels}\")"
   ]
  },
  {
   "cell_type": "code",
   "execution_count": 7,
   "metadata": {},
   "outputs": [
    {
     "name": "stdout",
     "output_type": "stream",
     "text": [
      "Total number of people out of 1000,000 population suffering from HD grouped by Gender: GeographicLevel\n",
      "County    193.379170\n",
      "State     251.180719\n",
      "Name: Data_Value, dtype: float64\n"
     ]
    }
   ],
   "source": [
    "#We want to find out the total of every level per 1000,000 population suffered from HD.\n",
    "#Perform a GROUP BY to group all the Genders.\n",
    "\n",
    "geoLevelDFGrouped = geographyDF.groupby(by='GeographicLevel')\n",
    "totalHDByGeoLevel = geoLevelDFGrouped['Data_Value'].mean()\n",
    "print(f\"Total number of people out of 1000,000 population suffering from HD grouped by Gender: {totalHDByGeoLevel}\")"
   ]
  },
  {
   "cell_type": "code",
   "execution_count": 8,
   "metadata": {},
   "outputs": [
    {
     "data": {
      "text/html": [
       "<div>\n",
       "<style scoped>\n",
       "    .dataframe tbody tr th:only-of-type {\n",
       "        vertical-align: middle;\n",
       "    }\n",
       "\n",
       "    .dataframe tbody tr th {\n",
       "        vertical-align: top;\n",
       "    }\n",
       "\n",
       "    .dataframe thead th {\n",
       "        text-align: right;\n",
       "    }\n",
       "</style>\n",
       "<table border=\"1\" class=\"dataframe\">\n",
       "  <thead>\n",
       "    <tr style=\"text-align: right;\">\n",
       "      <th></th>\n",
       "      <th>Data_Value</th>\n",
       "      <th>Gender</th>\n",
       "    </tr>\n",
       "  </thead>\n",
       "  <tbody>\n",
       "    <tr>\n",
       "      <th>0</th>\n",
       "      <td>105.3</td>\n",
       "      <td>Overall</td>\n",
       "    </tr>\n",
       "    <tr>\n",
       "      <th>1</th>\n",
       "      <td>211.9</td>\n",
       "      <td>Overall</td>\n",
       "    </tr>\n",
       "    <tr>\n",
       "      <th>2</th>\n",
       "      <td>257.9</td>\n",
       "      <td>Overall</td>\n",
       "    </tr>\n",
       "    <tr>\n",
       "      <th>3</th>\n",
       "      <td>351.6</td>\n",
       "      <td>Overall</td>\n",
       "    </tr>\n",
       "    <tr>\n",
       "      <th>4</th>\n",
       "      <td>0.0</td>\n",
       "      <td>Overall</td>\n",
       "    </tr>\n",
       "  </tbody>\n",
       "</table>\n",
       "</div>"
      ],
      "text/plain": [
       "   Data_Value   Gender\n",
       "0       105.3  Overall\n",
       "1       211.9  Overall\n",
       "2       257.9  Overall\n",
       "3       351.6  Overall\n",
       "4         0.0  Overall"
      ]
     },
     "execution_count": 8,
     "metadata": {},
     "output_type": "execute_result"
    }
   ],
   "source": [
    "#Analysis: Heart Disease against Gender.\n",
    "#To perform this analysis, heartDiseaseDF can be reduced to contain just 2 columns - Data_Value and Gender.\n",
    "\n",
    "#Create a Gender Data Frame.\n",
    "genderDF = heartDiseaseDF[['Data_Value', 'Gender']]\n",
    "genderDF.head()"
   ]
  },
  {
   "cell_type": "code",
   "execution_count": 9,
   "metadata": {},
   "outputs": [
    {
     "data": {
      "text/plain": [
       "['Female', 'Male', 'Overall']"
      ]
     },
     "execution_count": 9,
     "metadata": {},
     "output_type": "execute_result"
    }
   ],
   "source": [
    "#Investigate the Types of Genders\n",
    "genderTypes = sorted(genderDF['Gender'].unique())\n",
    "genderTypes"
   ]
  },
  {
   "cell_type": "code",
   "execution_count": 10,
   "metadata": {},
   "outputs": [
    {
     "name": "stdout",
     "output_type": "stream",
     "text": [
      "Total number of people out of 1000,000 population suffering from HD grouped by Gender: Gender\n",
      "Female     2792090.7\n",
      "Male       4505249.7\n",
      "Overall    3866515.0\n",
      "Name: Data_Value, dtype: float64\n"
     ]
    }
   ],
   "source": [
    "#We want to find out the total of every gender per 1000,000 population suffered from HD.\n",
    "#Perform a GROUP BY to group all the Genders.\n",
    "\n",
    "genderDFGrouped = genderDF.groupby(by='Gender')\n",
    "totalHDByGenderType = genderDFGrouped['Data_Value'].sum()\n",
    "print(f\"Total number of people out of 1000,000 population suffering from HD grouped by Gender: {totalHDByGenderType}\")"
   ]
  },
  {
   "cell_type": "code",
   "execution_count": 11,
   "metadata": {},
   "outputs": [
    {
     "data": {
      "image/png": "[encoded data removed]",
      "text/plain": [
       "<Figure size 432x288 with 1 Axes>"
      ]
     },
     "metadata": {},
     "output_type": "display_data"
    }
   ],
   "source": [
    "#Construct a Pie Chart to indicate the HD % suffered by every Gender \n",
    "\n",
    "pieColors = ['Gold', 'LightSkyBlue', 'Coral']\n",
    "explodeTuple = [0,0,0.1]\n",
    "\n",
    "#Build the Pie Chart\n",
    "plt.pie(x=totalHDByGenderType, explode=explodeTuple, colors=pieColors, labels=genderTypes, \n",
    "        shadow=True, autopct=\"%1.1f%%\", startangle = 120)\n",
    "plt.title(\"%HD by Gender\")\n",
    "\n",
    "plt.savefig(\"Images/HDGender.png\")\n",
    "\n",
    "plt.show()"
   ]
  },
  {
   "cell_type": "code",
   "execution_count": null,
   "metadata": {},
   "outputs": [],
   "source": []
  }
 ],
 "metadata": {
  "kernelspec": {
   "display_name": "pythondata",
   "language": "python",
   "name": "pythondata"
  },
  "language_info": {
   "codemirror_mode": {
    "name": "ipython",
    "version": 3
   },
   "file_extension": ".py",
   "mimetype": "text/x-python",
   "name": "python",
   "nbconvert_exporter": "python",
   "pygments_lexer": "ipython3",
   "version": "3.7.0"
  }
 },
 "nbformat": 4,
 "nbformat_minor": 2
}
