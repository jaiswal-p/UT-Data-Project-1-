{
 "cells": [
  {
   "cell_type": "code",
   "execution_count": 2,
   "metadata": {},
   "outputs": [],
   "source": [
    "#Import dependencies and setup data\n",
    "import matplotlib.pyplot as plt\n",
    "import pandas as pd\n",
    "import numpy as np\n",
    "import os\n",
    "import requests\n",
    "import time\n",
    "import seaborn as sns\n",
    "from scipy.stats import sem\n",
    "from scipy import stats\n",
    "import gmaps"
   ]
  },
  {
   "cell_type": "code",
   "execution_count": 3,
   "metadata": {
    "scrolled": true
   },
   "outputs": [
    {
     "data": {
      "text/html": [
       "<div>\n",
       "<style scoped>\n",
       "    .dataframe tbody tr th:only-of-type {\n",
       "        vertical-align: middle;\n",
       "    }\n",
       "\n",
       "    .dataframe tbody tr th {\n",
       "        vertical-align: top;\n",
       "    }\n",
       "\n",
       "    .dataframe thead th {\n",
       "        text-align: right;\n",
       "    }\n",
       "</style>\n",
       "<table border=\"1\" class=\"dataframe\">\n",
       "  <thead>\n",
       "    <tr style=\"text-align: right;\">\n",
       "      <th></th>\n",
       "      <th>Year</th>\n",
       "      <th>LocationAbbr</th>\n",
       "      <th>LocationDesc</th>\n",
       "      <th>GeographicLevel</th>\n",
       "      <th>DataSource</th>\n",
       "      <th>Class</th>\n",
       "      <th>Topic</th>\n",
       "      <th>Data_Value</th>\n",
       "      <th>Data_Value_Unit</th>\n",
       "      <th>Data_Value_Type</th>\n",
       "      <th>Data_Value_Footnote_Symbol</th>\n",
       "      <th>Data_Value_Footnote</th>\n",
       "      <th>StratificationCategory1</th>\n",
       "      <th>Stratification1</th>\n",
       "      <th>StratificationCategory2</th>\n",
       "      <th>Stratification2</th>\n",
       "      <th>TopicID</th>\n",
       "      <th>LocationID</th>\n",
       "      <th>Location 1</th>\n",
       "    </tr>\n",
       "  </thead>\n",
       "  <tbody>\n",
       "    <tr>\n",
       "      <th>0</th>\n",
       "      <td>2014</td>\n",
       "      <td>AK</td>\n",
       "      <td>Aleutians East</td>\n",
       "      <td>County</td>\n",
       "      <td>NVSS</td>\n",
       "      <td>Cardiovascular Diseases</td>\n",
       "      <td>Heart Disease Mortality</td>\n",
       "      <td>105.3</td>\n",
       "      <td>per 100,000 population</td>\n",
       "      <td>Age-adjusted, Spatially Smoothed, 3-year Avera...</td>\n",
       "      <td>NaN</td>\n",
       "      <td>NaN</td>\n",
       "      <td>Gender</td>\n",
       "      <td>Overall</td>\n",
       "      <td>Race/Ethnicity</td>\n",
       "      <td>Overall</td>\n",
       "      <td>T2</td>\n",
       "      <td>2013</td>\n",
       "      <td>(55.440626, -161.962562)</td>\n",
       "    </tr>\n",
       "    <tr>\n",
       "      <th>1</th>\n",
       "      <td>2014</td>\n",
       "      <td>AK</td>\n",
       "      <td>Aleutians West</td>\n",
       "      <td>County</td>\n",
       "      <td>NVSS</td>\n",
       "      <td>Cardiovascular Diseases</td>\n",
       "      <td>Heart Disease Mortality</td>\n",
       "      <td>211.9</td>\n",
       "      <td>per 100,000 population</td>\n",
       "      <td>Age-adjusted, Spatially Smoothed, 3-year Avera...</td>\n",
       "      <td>NaN</td>\n",
       "      <td>NaN</td>\n",
       "      <td>Gender</td>\n",
       "      <td>Overall</td>\n",
       "      <td>Race/Ethnicity</td>\n",
       "      <td>Overall</td>\n",
       "      <td>T2</td>\n",
       "      <td>2016</td>\n",
       "      <td>(52.995403, -170.251538)</td>\n",
       "    </tr>\n",
       "    <tr>\n",
       "      <th>2</th>\n",
       "      <td>2014</td>\n",
       "      <td>AK</td>\n",
       "      <td>Anchorage</td>\n",
       "      <td>County</td>\n",
       "      <td>NVSS</td>\n",
       "      <td>Cardiovascular Diseases</td>\n",
       "      <td>Heart Disease Mortality</td>\n",
       "      <td>257.9</td>\n",
       "      <td>per 100,000 population</td>\n",
       "      <td>Age-adjusted, Spatially Smoothed, 3-year Avera...</td>\n",
       "      <td>NaN</td>\n",
       "      <td>NaN</td>\n",
       "      <td>Gender</td>\n",
       "      <td>Overall</td>\n",
       "      <td>Race/Ethnicity</td>\n",
       "      <td>Overall</td>\n",
       "      <td>T2</td>\n",
       "      <td>2020</td>\n",
       "      <td>(61.159049, -149.103905)</td>\n",
       "    </tr>\n",
       "    <tr>\n",
       "      <th>3</th>\n",
       "      <td>2014</td>\n",
       "      <td>AK</td>\n",
       "      <td>Bethel</td>\n",
       "      <td>County</td>\n",
       "      <td>NVSS</td>\n",
       "      <td>Cardiovascular Diseases</td>\n",
       "      <td>Heart Disease Mortality</td>\n",
       "      <td>351.6</td>\n",
       "      <td>per 100,000 population</td>\n",
       "      <td>Age-adjusted, Spatially Smoothed, 3-year Avera...</td>\n",
       "      <td>NaN</td>\n",
       "      <td>NaN</td>\n",
       "      <td>Gender</td>\n",
       "      <td>Overall</td>\n",
       "      <td>Race/Ethnicity</td>\n",
       "      <td>Overall</td>\n",
       "      <td>T2</td>\n",
       "      <td>2050</td>\n",
       "      <td>(60.924483, -159.749655)</td>\n",
       "    </tr>\n",
       "    <tr>\n",
       "      <th>4</th>\n",
       "      <td>2014</td>\n",
       "      <td>AK</td>\n",
       "      <td>Bristol Bay</td>\n",
       "      <td>County</td>\n",
       "      <td>NVSS</td>\n",
       "      <td>Cardiovascular Diseases</td>\n",
       "      <td>Heart Disease Mortality</td>\n",
       "      <td>NaN</td>\n",
       "      <td>per 100,000 population</td>\n",
       "      <td>Age-adjusted, Spatially Smoothed, 3-year Avera...</td>\n",
       "      <td>~</td>\n",
       "      <td>Insufficient Data</td>\n",
       "      <td>Gender</td>\n",
       "      <td>Overall</td>\n",
       "      <td>Race/Ethnicity</td>\n",
       "      <td>Overall</td>\n",
       "      <td>T2</td>\n",
       "      <td>2060</td>\n",
       "      <td>(58.754192, -156.694709)</td>\n",
       "    </tr>\n",
       "  </tbody>\n",
       "</table>\n",
       "</div>"
      ],
      "text/plain": [
       "   Year LocationAbbr    LocationDesc GeographicLevel DataSource  \\\n",
       "0  2014           AK  Aleutians East          County       NVSS   \n",
       "1  2014           AK  Aleutians West          County       NVSS   \n",
       "2  2014           AK       Anchorage          County       NVSS   \n",
       "3  2014           AK          Bethel          County       NVSS   \n",
       "4  2014           AK     Bristol Bay          County       NVSS   \n",
       "\n",
       "                     Class                    Topic  Data_Value  \\\n",
       "0  Cardiovascular Diseases  Heart Disease Mortality       105.3   \n",
       "1  Cardiovascular Diseases  Heart Disease Mortality       211.9   \n",
       "2  Cardiovascular Diseases  Heart Disease Mortality       257.9   \n",
       "3  Cardiovascular Diseases  Heart Disease Mortality       351.6   \n",
       "4  Cardiovascular Diseases  Heart Disease Mortality         NaN   \n",
       "\n",
       "          Data_Value_Unit                                    Data_Value_Type  \\\n",
       "0  per 100,000 population  Age-adjusted, Spatially Smoothed, 3-year Avera...   \n",
       "1  per 100,000 population  Age-adjusted, Spatially Smoothed, 3-year Avera...   \n",
       "2  per 100,000 population  Age-adjusted, Spatially Smoothed, 3-year Avera...   \n",
       "3  per 100,000 population  Age-adjusted, Spatially Smoothed, 3-year Avera...   \n",
       "4  per 100,000 population  Age-adjusted, Spatially Smoothed, 3-year Avera...   \n",
       "\n",
       "  Data_Value_Footnote_Symbol Data_Value_Footnote StratificationCategory1  \\\n",
       "0                        NaN                 NaN                  Gender   \n",
       "1                        NaN                 NaN                  Gender   \n",
       "2                        NaN                 NaN                  Gender   \n",
       "3                        NaN                 NaN                  Gender   \n",
       "4                          ~   Insufficient Data                  Gender   \n",
       "\n",
       "  Stratification1 StratificationCategory2 Stratification2 TopicID  LocationID  \\\n",
       "0         Overall          Race/Ethnicity         Overall      T2        2013   \n",
       "1         Overall          Race/Ethnicity         Overall      T2        2016   \n",
       "2         Overall          Race/Ethnicity         Overall      T2        2020   \n",
       "3         Overall          Race/Ethnicity         Overall      T2        2050   \n",
       "4         Overall          Race/Ethnicity         Overall      T2        2060   \n",
       "\n",
       "                 Location 1  \n",
       "0  (55.440626, -161.962562)  \n",
       "1  (52.995403, -170.251538)  \n",
       "2  (61.159049, -149.103905)  \n",
       "3  (60.924483, -159.749655)  \n",
       "4  (58.754192, -156.694709)  "
      ]
     },
     "execution_count": 3,
     "metadata": {},
     "output_type": "execute_result"
    }
   ],
   "source": [
    "#Files to Load\n",
    "#temp_data_to_load = \".../_data.csv\"\n",
    "\n",
    "heart_data_to_load = \"resources/Heart_Disease_Mortality_Data.csv\"\n",
    "heart_data_pd = pd.read_csv(heart_data_to_load)\n",
    "\n",
    "heart_data_pd.head()"
   ]
  },
  {
   "cell_type": "code",
   "execution_count": 4,
   "metadata": {},
   "outputs": [
    {
     "data": {
      "text/html": [
       "<div>\n",
       "<style scoped>\n",
       "    .dataframe tbody tr th:only-of-type {\n",
       "        vertical-align: middle;\n",
       "    }\n",
       "\n",
       "    .dataframe tbody tr th {\n",
       "        vertical-align: top;\n",
       "    }\n",
       "\n",
       "    .dataframe thead th {\n",
       "        text-align: right;\n",
       "    }\n",
       "</style>\n",
       "<table border=\"1\" class=\"dataframe\">\n",
       "  <thead>\n",
       "    <tr style=\"text-align: right;\">\n",
       "      <th></th>\n",
       "      <th>LocationAbbr</th>\n",
       "      <th>Data_Value</th>\n",
       "      <th>Stratification1</th>\n",
       "    </tr>\n",
       "  </thead>\n",
       "  <tbody>\n",
       "    <tr>\n",
       "      <th>0</th>\n",
       "      <td>AK</td>\n",
       "      <td>105.3</td>\n",
       "      <td>Overall</td>\n",
       "    </tr>\n",
       "    <tr>\n",
       "      <th>1</th>\n",
       "      <td>AK</td>\n",
       "      <td>211.9</td>\n",
       "      <td>Overall</td>\n",
       "    </tr>\n",
       "    <tr>\n",
       "      <th>2</th>\n",
       "      <td>AK</td>\n",
       "      <td>257.9</td>\n",
       "      <td>Overall</td>\n",
       "    </tr>\n",
       "    <tr>\n",
       "      <th>3</th>\n",
       "      <td>AK</td>\n",
       "      <td>351.6</td>\n",
       "      <td>Overall</td>\n",
       "    </tr>\n",
       "    <tr>\n",
       "      <th>4</th>\n",
       "      <td>AK</td>\n",
       "      <td>NaN</td>\n",
       "      <td>Overall</td>\n",
       "    </tr>\n",
       "  </tbody>\n",
       "</table>\n",
       "</div>"
      ],
      "text/plain": [
       "  LocationAbbr  Data_Value Stratification1\n",
       "0           AK       105.3         Overall\n",
       "1           AK       211.9         Overall\n",
       "2           AK       257.9         Overall\n",
       "3           AK       351.6         Overall\n",
       "4           AK         NaN         Overall"
      ]
     },
     "execution_count": 4,
     "metadata": {},
     "output_type": "execute_result"
    }
   ],
   "source": [
    "#Select columns for merge\n",
    "#selected = [\"\", \"\", \"\"]\n",
    "#selected_df = data_file_pd[selected]\n",
    "#selected_df.head()\n",
    "selected = ['LocationAbbr', 'Data_Value','Stratification1' ]\n",
    "selected_df = heart_data_pd[selected]\n",
    "selected_df.head()"
   ]
  },
  {
   "cell_type": "code",
   "execution_count": 5,
   "metadata": {
    "scrolled": true
   },
   "outputs": [
    {
     "data": {
      "text/plain": [
       "Index(['Year', 'LocationAbbr', 'LocationDesc', 'GeographicLevel', 'DataSource',\n",
       "       'Class', 'Topic', 'Data_Value', 'Data_Value_Unit', 'Data_Value_Type',\n",
       "       'Data_Value_Footnote_Symbol', 'Data_Value_Footnote',\n",
       "       'StratificationCategory1', 'Stratification1', 'StratificationCategory2',\n",
       "       'Stratification2', 'TopicID', 'LocationID', 'Location 1'],\n",
       "      dtype='object')"
      ]
     },
     "execution_count": 5,
     "metadata": {},
     "output_type": "execute_result"
    }
   ],
   "source": [
    "#To use Loc to list headers: dataframe.columns\n",
    "heart_data_pd.columns"
   ]
  },
  {
   "cell_type": "code",
   "execution_count": 6,
   "metadata": {
    "scrolled": true
   },
   "outputs": [
    {
     "data": {
      "text/html": [
       "<div>\n",
       "<style scoped>\n",
       "    .dataframe tbody tr th:only-of-type {\n",
       "        vertical-align: middle;\n",
       "    }\n",
       "\n",
       "    .dataframe tbody tr th {\n",
       "        vertical-align: top;\n",
       "    }\n",
       "\n",
       "    .dataframe thead th {\n",
       "        text-align: right;\n",
       "    }\n",
       "</style>\n",
       "<table border=\"1\" class=\"dataframe\">\n",
       "  <thead>\n",
       "    <tr style=\"text-align: right;\">\n",
       "      <th></th>\n",
       "      <th>State</th>\n",
       "      <th>Mortality Count</th>\n",
       "      <th>Gender</th>\n",
       "    </tr>\n",
       "  </thead>\n",
       "  <tbody>\n",
       "    <tr>\n",
       "      <th>0</th>\n",
       "      <td>AK</td>\n",
       "      <td>105.3</td>\n",
       "      <td>Overall</td>\n",
       "    </tr>\n",
       "    <tr>\n",
       "      <th>1</th>\n",
       "      <td>AK</td>\n",
       "      <td>211.9</td>\n",
       "      <td>Overall</td>\n",
       "    </tr>\n",
       "    <tr>\n",
       "      <th>2</th>\n",
       "      <td>AK</td>\n",
       "      <td>257.9</td>\n",
       "      <td>Overall</td>\n",
       "    </tr>\n",
       "    <tr>\n",
       "      <th>3</th>\n",
       "      <td>AK</td>\n",
       "      <td>351.6</td>\n",
       "      <td>Overall</td>\n",
       "    </tr>\n",
       "    <tr>\n",
       "      <th>4</th>\n",
       "      <td>AK</td>\n",
       "      <td>NaN</td>\n",
       "      <td>Overall</td>\n",
       "    </tr>\n",
       "  </tbody>\n",
       "</table>\n",
       "</div>"
      ],
      "text/plain": [
       "  State  Mortality Count   Gender\n",
       "0    AK            105.3  Overall\n",
       "1    AK            211.9  Overall\n",
       "2    AK            257.9  Overall\n",
       "3    AK            351.6  Overall\n",
       "4    AK              NaN  Overall"
      ]
     },
     "execution_count": 6,
     "metadata": {},
     "output_type": "execute_result"
    }
   ],
   "source": [
    "heartDiseaseDF = selected_df.rename(index=str, columns={\"LocationAbbr\":\"State\",\n",
    "                                                       \"Data_Value\":\"Mortality Count\",\n",
    "                                                        \"Stratification1\":\"Gender\"})\n",
    "heartDiseaseDF.head()\n",
    "#heartDiseaseDF.columns"
   ]
  },
  {
   "cell_type": "code",
   "execution_count": 7,
   "metadata": {},
   "outputs": [
    {
     "data": {
      "text/plain": [
       "State              32149\n",
       "Mortality Count    32149\n",
       "Gender             32149\n",
       "dtype: int64"
      ]
     },
     "execution_count": 7,
     "metadata": {},
     "output_type": "execute_result"
    }
   ],
   "source": [
    "heartDiseaseDF = heartDiseaseDF.dropna()\n",
    "heartDiseaseDF.count()"
   ]
  },
  {
   "cell_type": "code",
   "execution_count": 8,
   "metadata": {},
   "outputs": [
    {
     "data": {
      "text/plain": [
       "<pandas.core.groupby.groupby.DataFrameGroupBy object at 0x000001D20D043518>"
      ]
     },
     "execution_count": 8,
     "metadata": {},
     "output_type": "execute_result"
    }
   ],
   "source": [
    "gender = heartDiseaseDF.groupby([\"State\",\"Gender\"])\n",
    "gender"
   ]
  },
  {
   "cell_type": "code",
   "execution_count": 9,
   "metadata": {},
   "outputs": [
    {
     "name": "stdout",
     "output_type": "stream",
     "text": [
      "Total heart disease 10^5 by state grouped by gender\n"
     ]
    },
    {
     "data": {
      "text/html": [
       "<div>\n",
       "<style scoped>\n",
       "    .dataframe tbody tr th:only-of-type {\n",
       "        vertical-align: middle;\n",
       "    }\n",
       "\n",
       "    .dataframe tbody tr th {\n",
       "        vertical-align: top;\n",
       "    }\n",
       "\n",
       "    .dataframe thead th {\n",
       "        text-align: right;\n",
       "    }\n",
       "</style>\n",
       "<table border=\"1\" class=\"dataframe\">\n",
       "  <thead>\n",
       "    <tr style=\"text-align: right;\">\n",
       "      <th>State</th>\n",
       "      <th>AK</th>\n",
       "      <th>AL</th>\n",
       "      <th>AR</th>\n",
       "      <th>AS</th>\n",
       "      <th>AZ</th>\n",
       "      <th>CA</th>\n",
       "      <th>CO</th>\n",
       "      <th>CT</th>\n",
       "      <th>DC</th>\n",
       "      <th>DE</th>\n",
       "      <th>...</th>\n",
       "      <th>TX</th>\n",
       "      <th>US</th>\n",
       "      <th>UT</th>\n",
       "      <th>VA</th>\n",
       "      <th>VI</th>\n",
       "      <th>VT</th>\n",
       "      <th>WA</th>\n",
       "      <th>WI</th>\n",
       "      <th>WV</th>\n",
       "      <th>WY</th>\n",
       "    </tr>\n",
       "    <tr>\n",
       "      <th>Gender</th>\n",
       "      <th></th>\n",
       "      <th></th>\n",
       "      <th></th>\n",
       "      <th></th>\n",
       "      <th></th>\n",
       "      <th></th>\n",
       "      <th></th>\n",
       "      <th></th>\n",
       "      <th></th>\n",
       "      <th></th>\n",
       "      <th></th>\n",
       "      <th></th>\n",
       "      <th></th>\n",
       "      <th></th>\n",
       "      <th></th>\n",
       "      <th></th>\n",
       "      <th></th>\n",
       "      <th></th>\n",
       "      <th></th>\n",
       "      <th></th>\n",
       "      <th></th>\n",
       "    </tr>\n",
       "  </thead>\n",
       "  <tbody>\n",
       "    <tr>\n",
       "      <th>Female</th>\n",
       "      <td>13428.4</td>\n",
       "      <td>80202.6</td>\n",
       "      <td>80573.6</td>\n",
       "      <td>563.6</td>\n",
       "      <td>17973.9</td>\n",
       "      <td>74522.5</td>\n",
       "      <td>42227.1</td>\n",
       "      <td>8931.6</td>\n",
       "      <td>2124.4</td>\n",
       "      <td>4241.5</td>\n",
       "      <td>...</td>\n",
       "      <td>270205.2</td>\n",
       "      <td>1408.7</td>\n",
       "      <td>21941.7</td>\n",
       "      <td>111639.2</td>\n",
       "      <td>64.3</td>\n",
       "      <td>7337.3</td>\n",
       "      <td>34925.7</td>\n",
       "      <td>46429.9</td>\n",
       "      <td>44008.1</td>\n",
       "      <td>13101.7</td>\n",
       "    </tr>\n",
       "    <tr>\n",
       "      <th>Male</th>\n",
       "      <td>28056.2</td>\n",
       "      <td>125456.1</td>\n",
       "      <td>128588.2</td>\n",
       "      <td>803.0</td>\n",
       "      <td>29690.4</td>\n",
       "      <td>124250.5</td>\n",
       "      <td>68598.8</td>\n",
       "      <td>14395.3</td>\n",
       "      <td>3553.7</td>\n",
       "      <td>6201.8</td>\n",
       "      <td>...</td>\n",
       "      <td>412804.0</td>\n",
       "      <td>2245.3</td>\n",
       "      <td>31584.8</td>\n",
       "      <td>175420.1</td>\n",
       "      <td>114.3</td>\n",
       "      <td>11924.9</td>\n",
       "      <td>61943.0</td>\n",
       "      <td>76909.3</td>\n",
       "      <td>66417.4</td>\n",
       "      <td>28170.3</td>\n",
       "    </tr>\n",
       "    <tr>\n",
       "      <th>Overall</th>\n",
       "      <td>22513.1</td>\n",
       "      <td>103700.0</td>\n",
       "      <td>108849.3</td>\n",
       "      <td>694.6</td>\n",
       "      <td>24124.8</td>\n",
       "      <td>101083.9</td>\n",
       "      <td>60649.9</td>\n",
       "      <td>11442.3</td>\n",
       "      <td>2894.9</td>\n",
       "      <td>5257.6</td>\n",
       "      <td>...</td>\n",
       "      <td>354848.1</td>\n",
       "      <td>1776.6</td>\n",
       "      <td>31105.6</td>\n",
       "      <td>147851.8</td>\n",
       "      <td>86.3</td>\n",
       "      <td>9730.7</td>\n",
       "      <td>52466.3</td>\n",
       "      <td>75082.6</td>\n",
       "      <td>57518.8</td>\n",
       "      <td>23693.4</td>\n",
       "    </tr>\n",
       "  </tbody>\n",
       "</table>\n",
       "<p>3 rows × 57 columns</p>\n",
       "</div>"
      ],
      "text/plain": [
       "State         AK        AL        AR     AS       AZ        CA       CO  \\\n",
       "Gender                                                                    \n",
       "Female   13428.4   80202.6   80573.6  563.6  17973.9   74522.5  42227.1   \n",
       "Male     28056.2  125456.1  128588.2  803.0  29690.4  124250.5  68598.8   \n",
       "Overall  22513.1  103700.0  108849.3  694.6  24124.8  101083.9  60649.9   \n",
       "\n",
       "State         CT      DC      DE   ...           TX      US       UT  \\\n",
       "Gender                             ...                                 \n",
       "Female    8931.6  2124.4  4241.5   ...     270205.2  1408.7  21941.7   \n",
       "Male     14395.3  3553.7  6201.8   ...     412804.0  2245.3  31584.8   \n",
       "Overall  11442.3  2894.9  5257.6   ...     354848.1  1776.6  31105.6   \n",
       "\n",
       "State          VA     VI       VT       WA       WI       WV       WY  \n",
       "Gender                                                                 \n",
       "Female   111639.2   64.3   7337.3  34925.7  46429.9  44008.1  13101.7  \n",
       "Male     175420.1  114.3  11924.9  61943.0  76909.3  66417.4  28170.3  \n",
       "Overall  147851.8   86.3   9730.7  52466.3  75082.6  57518.8  23693.4  \n",
       "\n",
       "[3 rows x 57 columns]"
      ]
     },
     "execution_count": 9,
     "metadata": {},
     "output_type": "execute_result"
    }
   ],
   "source": [
    "#gender.size().unstack()\n",
    "#Pivot table for all states\n",
    "print(\"Total heart disease 10^5 by state grouped by gender\")\n",
    "heartDiseaseDF.pivot_table(index='Gender', columns = 'State', values = 'Mortality Count', aggfunc = 'sum')"
   ]
  },
  {
   "cell_type": "code",
   "execution_count": 10,
   "metadata": {},
   "outputs": [
    {
     "name": "stdout",
     "output_type": "stream",
     "text": [
      "Total number of people per 10^5 population suffering from HD grouped by Gender: Gender\n",
      "Female     2809154.1\n",
      "Male       4532552.0\n",
      "Overall    3888157.4\n",
      "Name: Mortality Count, dtype: float64\n"
     ]
    }
   ],
   "source": [
    "#We want to find out the total of every gender per 1000,000 population suffered from HD.\n",
    "#Perform a GROUP BY to group all the Genders.\n",
    "genderDFGrouped = heartDiseaseDF.groupby(by='Gender')\n",
    "totalHDByGenderType = genderDFGrouped['Mortality Count'].sum()\n",
    "print(f\"Total number of people per 10^5 population suffering from HD grouped by Gender: {totalHDByGenderType}\")"
   ]
  },
  {
   "cell_type": "code",
   "execution_count": 14,
   "metadata": {},
   "outputs": [
    {
     "data": {
      "image/png": "[encoded data removed]",
      "text/plain": [
       "<Figure size 432x288 with 1 Axes>"
      ]
     },
     "metadata": {},
     "output_type": "display_data"
    }
   ],
   "source": [
    "#Construct a Pie Chart to indicate the HD % suffered by every Gender \n",
    "colors = ['Coral', 'LightSkyBlue', 'Gold']\n",
    "explodeTuple = [0,0,0.1]\n",
    "labels=['Female', 'Male', 'Other']\n",
    "\n",
    "#Build the Pie Chart\n",
    "plt.pie(x=totalHDByGenderType, explode=explodeTuple, colors=colors, labels=labels, \n",
    "        shadow=True, autopct=\"%1.1f%%\", startangle = 120)\n",
    "plt.axes().set_aspect(0.65)\n",
    "plt.title(\"2014: Percent by Gender in the US\")\n",
    "plt.savefig(\"Images/Percent_by_Gender_2014.png\")\n",
    "plt.show()"
   ]
  },
  {
   "cell_type": "code",
   "execution_count": 15,
   "metadata": {},
   "outputs": [
    {
     "data": {
      "image/png": "[encoded data removed]",
      "text/plain": [
       "<Figure size 1152x432 with 1 Axes>"
      ]
     },
     "metadata": {
      "needs_background": "light"
     },
     "output_type": "display_data"
    }
   ],
   "source": [
    "totalHDByGenderType.plot(kind='barh', stacked=True, figsize=[16,6], colors=colors)\n",
    "plt.savefig(\"Images/Percent_by_Gender_bar_2014.png\")\n",
    "    "
   ]
  },
  {
   "cell_type": "code",
   "execution_count": 19,
   "metadata": {},
   "outputs": [
    {
     "data": {
      "image/png": "[encoded data removed]",
      "text/plain": [
       "<Figure size 1152x576 with 1 Axes>"
      ]
     },
     "metadata": {
      "needs_background": "light"
     },
     "output_type": "display_data"
    }
   ],
   "source": [
    "#Pivot table plot\n",
    "hd_state_gender = heartDiseaseDF.pivot_table(index='Gender', columns = 'State', values = 'Mortality Count', aggfunc = 'sum')\n",
    "hd_state_gender.plot(kind='bar', figsize=[16,8], stacked=True, colormap='prism',\n",
    "                     title='Occurence_by_Gender_for Each State_2014')\n",
    "\n",
    "plt.savefig(\"Images/Occurence_by_Gender_for Each State_2014.png\")      "
   ]
  },
  {
   "cell_type": "code",
   "execution_count": 20,
   "metadata": {},
   "outputs": [
    {
     "data": {
      "image/png": "[encoded data removed]",
      "text/plain": [
       "<Figure size 1152x576 with 1 Axes>"
      ]
     },
     "metadata": {
      "needs_background": "light"
     },
     "output_type": "display_data"
    }
   ],
   "source": [
    "#Pivot table plot\n",
    "hd_state_gender = heartDiseaseDF.pivot_table(index='Gender', columns = 'State', values = 'Mortality Count', aggfunc = 'sum')\n",
    "hd_state_gender.plot(kind='bar', figsize=[16,8], stacked=False, colormap='prism',\n",
    "                     title='Occurence_by_Gender_for Each State_2014')\n",
    "\n",
    "plt.savefig(\"Images/Occurence_by_Gender_for Each State_2014_2.png\")     "
   ]
  },
  {
   "cell_type": "code",
   "execution_count": 21,
   "metadata": {},
   "outputs": [],
   "source": [
    "#Sort by highest risk group\n",
    "#ranked_gender = gender.sort_values([\"State\"], ascending=False)\n",
    "#ranked_gender = gender.reset_index(inplace=True)\n",
    "#ranked_gender"
   ]
  },
  {
   "cell_type": "code",
   "execution_count": 19,
   "metadata": {},
   "outputs": [],
   "source": []
  },
  {
   "cell_type": "code",
   "execution_count": null,
   "metadata": {},
   "outputs": [],
   "source": []
  },
  {
   "cell_type": "code",
   "execution_count": 15,
   "metadata": {},
   "outputs": [],
   "source": []
  },
  {
   "cell_type": "code",
   "execution_count": 16,
   "metadata": {},
   "outputs": [],
   "source": []
  },
  {
   "cell_type": "code",
   "execution_count": 17,
   "metadata": {},
   "outputs": [],
   "source": []
  },
  {
   "cell_type": "code",
   "execution_count": 18,
   "metadata": {},
   "outputs": [],
   "source": []
  },
  {
   "cell_type": "code",
   "execution_count": null,
   "metadata": {},
   "outputs": [],
   "source": []
  }
 ],
 "metadata": {
  "kernelspec": {
   "display_name": "data_env2",
   "language": "python",
   "name": "data_env2"
  },
  "language_info": {
   "codemirror_mode": {
    "name": "ipython",
    "version": 3
   },
   "file_extension": ".py",
   "mimetype": "text/x-python",
   "name": "python",
   "nbconvert_exporter": "python",
   "pygments_lexer": "ipython3",
   "version": "3.7.1"
  }
 },
 "nbformat": 4,
 "nbformat_minor": 2
}
